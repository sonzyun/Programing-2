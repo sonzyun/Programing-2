{
 "cells": [
  {
   "cell_type": "markdown",
   "id": "d73143a4",
   "metadata": {},
   "source": [
    "## 3. 데이터 구조, 컬렉션\n",
    "- 리스트(list)\n",
    "- 튜플(tuple)\n",
    "- 딕셔너리(dictionary)\n",
    "- 집합(set)"
   ]
  },
  {
   "cell_type": "markdown",
   "id": "bf8cd375",
   "metadata": {},
   "source": [
    "### 리스트"
   ]
  },
  {
   "cell_type": "code",
   "execution_count": 2,
   "id": "f5f63421",
   "metadata": {},
   "outputs": [],
   "source": [
    "list1 = list()"
   ]
  },
  {
   "cell_type": "code",
   "execution_count": 3,
   "id": "ea4a2dad",
   "metadata": {},
   "outputs": [
    {
     "data": {
      "text/plain": [
       "[]"
      ]
     },
     "execution_count": 3,
     "metadata": {},
     "output_type": "execute_result"
    }
   ],
   "source": [
    "list1"
   ]
  },
  {
   "cell_type": "code",
   "execution_count": 4,
   "id": "6a78fea4",
   "metadata": {},
   "outputs": [
    {
     "data": {
      "text/plain": [
       "list"
      ]
     },
     "execution_count": 4,
     "metadata": {},
     "output_type": "execute_result"
    }
   ],
   "source": [
    "type(list1)"
   ]
  },
  {
   "cell_type": "code",
   "execution_count": 5,
   "id": "c55547ff",
   "metadata": {},
   "outputs": [],
   "source": [
    "list2 = []"
   ]
  },
  {
   "cell_type": "code",
   "execution_count": 6,
   "id": "69070d77",
   "metadata": {},
   "outputs": [
    {
     "data": {
      "text/plain": [
       "[]"
      ]
     },
     "execution_count": 6,
     "metadata": {},
     "output_type": "execute_result"
    }
   ],
   "source": [
    "list2"
   ]
  },
  {
   "cell_type": "code",
   "execution_count": 10,
   "id": "31c8d816",
   "metadata": {},
   "outputs": [],
   "source": [
    "list_num = [1, 2, 3, 4, 5]"
   ]
  },
  {
   "cell_type": "code",
   "execution_count": 9,
   "id": "759f47f7",
   "metadata": {},
   "outputs": [
    {
     "data": {
      "text/plain": [
       "[1, 2, 3, 4, 5]"
      ]
     },
     "execution_count": 9,
     "metadata": {},
     "output_type": "execute_result"
    }
   ],
   "source": [
    "list_num"
   ]
  },
  {
   "cell_type": "code",
   "execution_count": 11,
   "id": "ad05a99a",
   "metadata": {},
   "outputs": [],
   "source": [
    "list_str = ['kim', 'lee', 'park', 'choi']"
   ]
  },
  {
   "cell_type": "code",
   "execution_count": 12,
   "id": "f1079cbd",
   "metadata": {},
   "outputs": [
    {
     "data": {
      "text/plain": [
       "['kim', 'lee', 'park', 'choi']"
      ]
     },
     "execution_count": 12,
     "metadata": {},
     "output_type": "execute_result"
    }
   ],
   "source": [
    "list_str"
   ]
  },
  {
   "cell_type": "code",
   "execution_count": 13,
   "id": "f0986137",
   "metadata": {},
   "outputs": [],
   "source": [
    "list_bool = [True, False, True, False]"
   ]
  },
  {
   "cell_type": "code",
   "execution_count": 16,
   "id": "33b33458",
   "metadata": {},
   "outputs": [
    {
     "data": {
      "text/plain": [
       "[True, False, True, False]"
      ]
     },
     "execution_count": 16,
     "metadata": {},
     "output_type": "execute_result"
    }
   ],
   "source": [
    "list_bool"
   ]
  },
  {
   "cell_type": "code",
   "execution_count": 17,
   "id": "39298467",
   "metadata": {},
   "outputs": [],
   "source": [
    "list_mix = [1, 'kim', True, 3.14]"
   ]
  },
  {
   "cell_type": "code",
   "execution_count": 19,
   "id": "7cbf51f2",
   "metadata": {},
   "outputs": [
    {
     "data": {
      "text/plain": [
       "[1, 'kim', True, 3.14]"
      ]
     },
     "execution_count": 19,
     "metadata": {},
     "output_type": "execute_result"
    }
   ],
   "source": [
    "list_mix"
   ]
  },
  {
   "cell_type": "code",
   "execution_count": 21,
   "id": "e83c6b14",
   "metadata": {},
   "outputs": [],
   "source": [
    "list_list = [list_num, list_str, list_bool, list_mix]"
   ]
  },
  {
   "cell_type": "code",
   "execution_count": 22,
   "id": "e9c2f0dc",
   "metadata": {},
   "outputs": [
    {
     "data": {
      "text/plain": [
       "[[1, 2, 3, 4, 5],\n",
       " ['kim', 'lee', 'park', 'choi'],\n",
       " [True, False, True, False],\n",
       " [1, 'kim', True, 3.14]]"
      ]
     },
     "execution_count": 22,
     "metadata": {},
     "output_type": "execute_result"
    }
   ],
   "source": [
    "list_list"
   ]
  },
  {
   "cell_type": "markdown",
   "id": "6e7ec8e0",
   "metadata": {},
   "source": [
    "### 리스트 인덱싱\n",
    "- 리스트의 '숫자'번째 값\n",
    "- 리스트[숫자]"
   ]
  },
  {
   "cell_type": "code",
   "execution_count": 23,
   "id": "a95864ae",
   "metadata": {},
   "outputs": [],
   "source": [
    "list1 = [1, 2, 3, 4, 5]"
   ]
  },
  {
   "cell_type": "code",
   "execution_count": 24,
   "id": "57187d9c",
   "metadata": {},
   "outputs": [
    {
     "data": {
      "text/plain": [
       "2"
      ]
     },
     "execution_count": 24,
     "metadata": {},
     "output_type": "execute_result"
    }
   ],
   "source": [
    "list1[1]"
   ]
  },
  {
   "cell_type": "code",
   "execution_count": 26,
   "id": "bb54e28f",
   "metadata": {},
   "outputs": [
    {
     "data": {
      "text/plain": [
       "5"
      ]
     },
     "execution_count": 26,
     "metadata": {},
     "output_type": "execute_result"
    }
   ],
   "source": [
    "list1[-1]"
   ]
  },
  {
   "cell_type": "code",
   "execution_count": 27,
   "id": "ec8b37e2",
   "metadata": {},
   "outputs": [
    {
     "data": {
      "text/plain": [
       "[2, 3, 4]"
      ]
     },
     "execution_count": 27,
     "metadata": {},
     "output_type": "execute_result"
    }
   ],
   "source": [
    "list1[1:4]"
   ]
  },
  {
   "cell_type": "markdown",
   "id": "168e44bb",
   "metadata": {},
   "source": [
    "### 리스트 더하기 ('+')"
   ]
  },
  {
   "cell_type": "code",
   "execution_count": 28,
   "id": "20d3daf8",
   "metadata": {},
   "outputs": [],
   "source": [
    "list1 = [1,2,3]\n",
    "list2 = [4,5,6,7]"
   ]
  },
  {
   "cell_type": "code",
   "execution_count": 29,
   "id": "885b34ea",
   "metadata": {},
   "outputs": [
    {
     "data": {
      "text/plain": [
       "[1, 2, 3, 4, 5, 6, 7]"
      ]
     },
     "execution_count": 29,
     "metadata": {},
     "output_type": "execute_result"
    }
   ],
   "source": [
    "list1 + list2"
   ]
  },
  {
   "cell_type": "markdown",
   "id": "824745e6",
   "metadata": {},
   "source": [
    "### 리스트 반복('*')"
   ]
  },
  {
   "cell_type": "code",
   "execution_count": 31,
   "id": "7d026e83",
   "metadata": {},
   "outputs": [
    {
     "data": {
      "text/plain": [
       "[1, 2, 3, 1, 2, 3, 1, 2, 3]"
      ]
     },
     "execution_count": 31,
     "metadata": {},
     "output_type": "execute_result"
    }
   ],
   "source": [
    "list1 * 3"
   ]
  },
  {
   "cell_type": "code",
   "execution_count": 32,
   "id": "a3543b51",
   "metadata": {},
   "outputs": [
    {
     "data": {
      "text/plain": [
       "4"
      ]
     },
     "execution_count": 32,
     "metadata": {},
     "output_type": "execute_result"
    }
   ],
   "source": [
    "list1[1] * 2"
   ]
  },
  {
   "cell_type": "code",
   "execution_count": 34,
   "id": "a25586de",
   "metadata": {},
   "outputs": [],
   "source": [
    "list2 = ['1', '2', '3']"
   ]
  },
  {
   "cell_type": "code",
   "execution_count": 36,
   "id": "52e95840",
   "metadata": {},
   "outputs": [
    {
     "data": {
      "text/plain": [
       "'222'"
      ]
     },
     "execution_count": 36,
     "metadata": {},
     "output_type": "execute_result"
    }
   ],
   "source": [
    "list2[1] * 3"
   ]
  },
  {
   "cell_type": "markdown",
   "id": "599616cd",
   "metadata": {},
   "source": [
    "### 리스트 값 수정하기"
   ]
  },
  {
   "cell_type": "code",
   "execution_count": 37,
   "id": "edaa9f68",
   "metadata": {},
   "outputs": [],
   "source": [
    "s = \"Hello World!\""
   ]
  },
  {
   "cell_type": "code",
   "execution_count": 38,
   "id": "f214cadf",
   "metadata": {},
   "outputs": [
    {
     "ename": "TypeError",
     "evalue": "'str' object does not support item assignment",
     "output_type": "error",
     "traceback": [
      "\u001b[31m---------------------------------------------------------------------------\u001b[39m",
      "\u001b[31mTypeError\u001b[39m                                 Traceback (most recent call last)",
      "\u001b[36mCell\u001b[39m\u001b[36m \u001b[39m\u001b[32mIn[38]\u001b[39m\u001b[32m, line 1\u001b[39m\n\u001b[32m----> \u001b[39m\u001b[32m1\u001b[39m \u001b[43ms\u001b[49m\u001b[43m[\u001b[49m\u001b[32;43m6\u001b[39;49m\u001b[43m]\u001b[49m = \u001b[33m'\u001b[39m\u001b[33mw\u001b[39m\u001b[33m'\u001b[39m  \u001b[38;5;66;03m# 문자열은 수정 불가\u001b[39;00m\n",
      "\u001b[31mTypeError\u001b[39m: 'str' object does not support item assignment"
     ]
    }
   ],
   "source": [
    "s[6] = 'w'  # 문자열은 수정 불가"
   ]
  },
  {
   "cell_type": "code",
   "execution_count": null,
   "id": "beafb41b",
   "metadata": {},
   "outputs": [],
   "source": [
    "list = [1, 2, 3, 4, 5]"
   ]
  },
  {
   "cell_type": "code",
   "execution_count": 40,
   "id": "19612e62",
   "metadata": {},
   "outputs": [],
   "source": [
    "list[1] = 7"
   ]
  },
  {
   "cell_type": "code",
   "execution_count": 41,
   "id": "8bc640a2",
   "metadata": {},
   "outputs": [
    {
     "data": {
      "text/plain": [
       "[1, 7, 3, 4, 5]"
      ]
     },
     "execution_count": 41,
     "metadata": {},
     "output_type": "execute_result"
    }
   ],
   "source": [
    "list"
   ]
  },
  {
   "cell_type": "code",
   "execution_count": 44,
   "id": "3e7991ee",
   "metadata": {},
   "outputs": [],
   "source": [
    "list[-1] = 'python'"
   ]
  },
  {
   "cell_type": "code",
   "execution_count": 46,
   "id": "1e04a3a8",
   "metadata": {},
   "outputs": [
    {
     "data": {
      "text/plain": [
       "[1, 7, 3, 4, 'python']"
      ]
     },
     "execution_count": 46,
     "metadata": {},
     "output_type": "execute_result"
    }
   ],
   "source": [
    "list"
   ]
  },
  {
   "cell_type": "markdown",
   "id": "7ab45c1b",
   "metadata": {},
   "source": [
    "### 리스트 연속된 값 수정하기\n",
    "- 리스트명[start:end] = [값1, 값2, 값3, ...]"
   ]
  },
  {
   "cell_type": "code",
   "execution_count": 50,
   "id": "5995a667",
   "metadata": {},
   "outputs": [],
   "source": [
    "list1 = [1,2,3,4,5,6]"
   ]
  },
  {
   "cell_type": "code",
   "execution_count": null,
   "id": "d962654d",
   "metadata": {},
   "outputs": [],
   "source": [
    "##list1[3] = ['a', 'b', 'c']"
   ]
  },
  {
   "cell_type": "code",
   "execution_count": 51,
   "id": "104e470f",
   "metadata": {},
   "outputs": [
    {
     "data": {
      "text/plain": [
       "[1, 2, 3, 4, 5, 6]"
      ]
     },
     "execution_count": 51,
     "metadata": {},
     "output_type": "execute_result"
    }
   ],
   "source": [
    "list1"
   ]
  },
  {
   "cell_type": "code",
   "execution_count": 56,
   "id": "9afa43a9",
   "metadata": {},
   "outputs": [],
   "source": [
    "list1[3:4] = ['a', 'b', 'c'] ## 리스트 연속된 값 수정하기 슬라이싱으로 수정"
   ]
  },
  {
   "cell_type": "code",
   "execution_count": 55,
   "id": "d7ba82a5",
   "metadata": {},
   "outputs": [
    {
     "data": {
      "text/plain": [
       "[1, 2, 3, 'a', 'b', 'c', 5, 6]"
      ]
     },
     "execution_count": 55,
     "metadata": {},
     "output_type": "execute_result"
    }
   ],
   "source": [
    "list1"
   ]
  }
 ],
 "metadata": {
  "kernelspec": {
   "display_name": "basic",
   "language": "python",
   "name": "python3"
  },
  "language_info": {
   "codemirror_mode": {
    "name": "ipython",
    "version": 3
   },
   "file_extension": ".py",
   "mimetype": "text/x-python",
   "name": "python",
   "nbconvert_exporter": "python",
   "pygments_lexer": "ipython3",
   "version": "3.11.13"
  }
 },
 "nbformat": 4,
 "nbformat_minor": 5
}
