{
 "cells": [
  {
   "cell_type": "markdown",
   "id": "df26b89f",
   "metadata": {},
   "source": [
    "# 문자열 관련 함수"
   ]
  },
  {
   "cell_type": "markdown",
   "id": "9ee6c345",
   "metadata": {},
   "source": [
    "### 문자열 개수를 세는 함수\n",
    "- count('찾을 문자열')"
   ]
  },
  {
   "cell_type": "code",
   "execution_count": 5,
   "id": "b2ce363f",
   "metadata": {},
   "outputs": [],
   "source": [
    "s = '안녕하세요! 파이썬 프로그래밍의 세계에 오신 것을 환영합니다.파이썬파이썬'"
   ]
  },
  {
   "cell_type": "code",
   "execution_count": 3,
   "id": "5908e379",
   "metadata": {},
   "outputs": [
    {
     "data": {
      "text/plain": [
       "34"
      ]
     },
     "execution_count": 3,
     "metadata": {},
     "output_type": "execute_result"
    }
   ],
   "source": [
    "len(s)"
   ]
  },
  {
   "cell_type": "code",
   "execution_count": 7,
   "id": "3a0ab81e",
   "metadata": {},
   "outputs": [
    {
     "data": {
      "text/plain": [
       "3"
      ]
     },
     "execution_count": 7,
     "metadata": {},
     "output_type": "execute_result"
    }
   ],
   "source": [
    "s.count('파이썬') ## 문자열 안에 있는 단어를 세는 함수, 문자열이 완벽하게 일치해야 함"
   ]
  },
  {
   "cell_type": "markdown",
   "id": "0f543704",
   "metadata": {},
   "source": [
    "### 문자열 위치를 알려주는 함수\n",
    "- find('문자열')\n",
    "- index('문자열')"
   ]
  },
  {
   "cell_type": "markdown",
   "id": "97aa160f",
   "metadata": {},
   "source": []
  },
  {
   "cell_type": "code",
   "execution_count": 10,
   "id": "c70abe3e",
   "metadata": {},
   "outputs": [],
   "source": [
    "s1 = 'Hello, World!'"
   ]
  },
  {
   "cell_type": "code",
   "execution_count": 13,
   "id": "cefbf4a3",
   "metadata": {},
   "outputs": [
    {
     "data": {
      "text/plain": [
       "7"
      ]
     },
     "execution_count": 13,
     "metadata": {},
     "output_type": "execute_result"
    }
   ],
   "source": [
    "s1.find('W')"
   ]
  },
  {
   "cell_type": "code",
   "execution_count": 15,
   "id": "ff913420",
   "metadata": {},
   "outputs": [
    {
     "data": {
      "text/plain": [
       "'World'"
      ]
     },
     "execution_count": 15,
     "metadata": {},
     "output_type": "execute_result"
    }
   ],
   "source": [
    "s1[s1.find('W'):-1]"
   ]
  },
  {
   "cell_type": "code",
   "execution_count": 16,
   "id": "46f2c08c",
   "metadata": {},
   "outputs": [
    {
     "data": {
      "text/plain": [
       "-1"
      ]
     },
     "execution_count": 16,
     "metadata": {},
     "output_type": "execute_result"
    }
   ],
   "source": [
    "s1.find('b')"
   ]
  },
  {
   "cell_type": "code",
   "execution_count": 18,
   "id": "f6437c7d",
   "metadata": {},
   "outputs": [
    {
     "data": {
      "text/plain": [
       "2"
      ]
     },
     "execution_count": 18,
     "metadata": {},
     "output_type": "execute_result"
    }
   ],
   "source": [
    "s1.find('l')"
   ]
  },
  {
   "cell_type": "code",
   "execution_count": 20,
   "id": "854b51a7",
   "metadata": {},
   "outputs": [
    {
     "data": {
      "text/plain": [
       "-1"
      ]
     },
     "execution_count": 20,
     "metadata": {},
     "output_type": "execute_result"
    }
   ],
   "source": [
    "s1.find('world') ## 대소문자 구분함"
   ]
  },
  {
   "cell_type": "code",
   "execution_count": 25,
   "id": "a5c1eade",
   "metadata": {},
   "outputs": [
    {
     "data": {
      "text/plain": [
       "'World'"
      ]
     },
     "execution_count": 25,
     "metadata": {},
     "output_type": "execute_result"
    }
   ],
   "source": [
    "s1[s1.find('Worl'):s1.find('d')+1]"
   ]
  },
  {
   "cell_type": "code",
   "execution_count": 28,
   "id": "844af815",
   "metadata": {},
   "outputs": [
    {
     "data": {
      "text/plain": [
       "'World'"
      ]
     },
     "execution_count": 28,
     "metadata": {},
     "output_type": "execute_result"
    }
   ],
   "source": [
    "s1[s1.find('W'):s1.find('World')+len('World')]"
   ]
  },
  {
   "cell_type": "code",
   "execution_count": 30,
   "id": "7645182b",
   "metadata": {},
   "outputs": [
    {
     "data": {
      "text/plain": [
       "7"
      ]
     },
     "execution_count": 30,
     "metadata": {},
     "output_type": "execute_result"
    }
   ],
   "source": [
    "s1.index('W')"
   ]
  },
  {
   "cell_type": "code",
   "execution_count": 32,
   "id": "f92d79c0",
   "metadata": {},
   "outputs": [
    {
     "ename": "ValueError",
     "evalue": "substring not found",
     "output_type": "error",
     "traceback": [
      "\u001b[31m---------------------------------------------------------------------------\u001b[39m",
      "\u001b[31mValueError\u001b[39m                                Traceback (most recent call last)",
      "\u001b[36mCell\u001b[39m\u001b[36m \u001b[39m\u001b[32mIn[32]\u001b[39m\u001b[32m, line 1\u001b[39m\n\u001b[32m----> \u001b[39m\u001b[32m1\u001b[39m \u001b[43ms1\u001b[49m\u001b[43m.\u001b[49m\u001b[43mindex\u001b[49m\u001b[43m(\u001b[49m\u001b[33;43m'\u001b[39;49m\u001b[33;43mb\u001b[39;49m\u001b[33;43m'\u001b[39;49m\u001b[43m)\u001b[49m \u001b[38;5;66;03m## find와 index의 차이점: find는 없으면 -1, index는 없으면 오류 발생\u001b[39;00m\n",
      "\u001b[31mValueError\u001b[39m: substring not found"
     ]
    }
   ],
   "source": [
    "s1.index('b') ## find와 index의 차이점: find는 없으면 -1, index는 없으면 오류 발생"
   ]
  },
  {
   "cell_type": "markdown",
   "id": "955434f8",
   "metadata": {},
   "source": [
    "### 문자열 삽입히는 함수\n",
    "- join('문자열')"
   ]
  },
  {
   "cell_type": "code",
   "execution_count": 33,
   "id": "c3776040",
   "metadata": {},
   "outputs": [
    {
     "data": {
      "text/plain": [
       "'a-b-c-d'"
      ]
     },
     "execution_count": 33,
     "metadata": {},
     "output_type": "execute_result"
    }
   ],
   "source": [
    "'-'.join('abcd')"
   ]
  },
  {
   "cell_type": "code",
   "execution_count": 34,
   "id": "34a43cae",
   "metadata": {},
   "outputs": [
    {
     "data": {
      "text/plain": [
       "'1:2:3:4'"
      ]
     },
     "execution_count": 34,
     "metadata": {},
     "output_type": "execute_result"
    }
   ],
   "source": [
    "':'.join('1234')"
   ]
  },
  {
   "cell_type": "markdown",
   "id": "e6ffef56",
   "metadata": {},
   "source": [
    "01000000000 -> 010-0000-0000"
   ]
  },
  {
   "cell_type": "code",
   "execution_count": 46,
   "id": "1a0159b5",
   "metadata": {},
   "outputs": [],
   "source": [
    "phone_number = '01012345678'"
   ]
  },
  {
   "cell_type": "code",
   "execution_count": null,
   "id": "002f7f69",
   "metadata": {},
   "outputs": [
    {
     "data": {
      "text/plain": [
       "'010'"
      ]
     },
     "execution_count": 47,
     "metadata": {},
     "output_type": "execute_result"
    }
   ],
   "source": [
    "phone_number(0:3)"
   ]
  },
  {
   "cell_type": "code",
   "execution_count": 48,
   "id": "952e22f7",
   "metadata": {},
   "outputs": [
    {
     "data": {
      "text/plain": [
       "'1234'"
      ]
     },
     "execution_count": 48,
     "metadata": {},
     "output_type": "execute_result"
    }
   ],
   "source": [
    "phone_number[3:7]"
   ]
  },
  {
   "cell_type": "code",
   "execution_count": 49,
   "id": "9b2cab1a",
   "metadata": {},
   "outputs": [
    {
     "data": {
      "text/plain": [
       "'5678'"
      ]
     },
     "execution_count": 49,
     "metadata": {},
     "output_type": "execute_result"
    }
   ],
   "source": [
    "phone_number[7:]"
   ]
  },
  {
   "cell_type": "code",
   "execution_count": 52,
   "id": "b8d60c5a",
   "metadata": {},
   "outputs": [
    {
     "data": {
      "text/plain": [
       "'010-1234-5678'"
      ]
     },
     "execution_count": 52,
     "metadata": {},
     "output_type": "execute_result"
    }
   ],
   "source": [
    "'-'.join((phone_number[0:3], phone_number[3:7], phone_number[7:]))"
   ]
  },
  {
   "cell_type": "markdown",
   "id": "6f1b738b",
   "metadata": {},
   "source": [
    "### 문자열 대,소문자로 바꾸는 함수\n",
    "- upper() 대문자로 바꾸기\n",
    "- lower() 소문자로 바꾸기"
   ]
  },
  {
   "cell_type": "code",
   "execution_count": 55,
   "id": "36a62e9a",
   "metadata": {},
   "outputs": [],
   "source": [
    "s2 = 'hELLO, pYTHON! hI pyTHoN'"
   ]
  },
  {
   "cell_type": "code",
   "execution_count": 56,
   "id": "00c4102c",
   "metadata": {},
   "outputs": [
    {
     "data": {
      "text/plain": [
       "0"
      ]
     },
     "execution_count": 56,
     "metadata": {},
     "output_type": "execute_result"
    }
   ],
   "source": [
    "s2.count('Python')"
   ]
  },
  {
   "cell_type": "code",
   "execution_count": 62,
   "id": "8027d88f",
   "metadata": {},
   "outputs": [
    {
     "data": {
      "text/plain": [
       "2"
      ]
     },
     "execution_count": 62,
     "metadata": {},
     "output_type": "execute_result"
    }
   ],
   "source": [
    "s2.upper().count('python'.upper())"
   ]
  },
  {
   "cell_type": "code",
   "execution_count": 61,
   "id": "98f0f73d",
   "metadata": {},
   "outputs": [
    {
     "data": {
      "text/plain": [
       "2"
      ]
     },
     "execution_count": 61,
     "metadata": {},
     "output_type": "execute_result"
    }
   ],
   "source": [
    "s2.lower().count('python')"
   ]
  },
  {
   "cell_type": "code",
   "execution_count": 58,
   "id": "0e61cfd9",
   "metadata": {},
   "outputs": [
    {
     "data": {
      "text/plain": [
       "0"
      ]
     },
     "execution_count": 58,
     "metadata": {},
     "output_type": "execute_result"
    }
   ],
   "source": [
    "s2.count('PYTHON')"
   ]
  },
  {
   "cell_type": "markdown",
   "id": "e47c70a6",
   "metadata": {},
   "source": [
    "### 문자열 공백 지우기 함수\n",
    "- lstrip() : 왼쪽 공백 지우기\n",
    "- rstrip() : 오른쪽 공백 지우기\n",
    "- strip()  : 양쪽 공백 지우기"
   ]
  },
  {
   "cell_type": "code",
   "execution_count": 1,
   "id": "a2956013",
   "metadata": {},
   "outputs": [],
   "source": [
    "s3 = '            A blank space     '"
   ]
  },
  {
   "cell_type": "code",
   "execution_count": 2,
   "id": "0636f220",
   "metadata": {},
   "outputs": [
    {
     "data": {
      "text/plain": [
       "'A blank space'"
      ]
     },
     "execution_count": 2,
     "metadata": {},
     "output_type": "execute_result"
    }
   ],
   "source": [
    "s3.strip() ## 양쪽 공백 제거"
   ]
  },
  {
   "cell_type": "code",
   "execution_count": 3,
   "id": "354af404",
   "metadata": {},
   "outputs": [
    {
     "data": {
      "text/plain": [
       "'A blank space     '"
      ]
     },
     "execution_count": 3,
     "metadata": {},
     "output_type": "execute_result"
    }
   ],
   "source": [
    "s3.lstrip() ## 왼쪽 공백 제거"
   ]
  },
  {
   "cell_type": "code",
   "execution_count": 4,
   "id": "ea0517d5",
   "metadata": {},
   "outputs": [
    {
     "data": {
      "text/plain": [
       "'            A blank space'"
      ]
     },
     "execution_count": 4,
     "metadata": {},
     "output_type": "execute_result"
    }
   ],
   "source": [
    "s3.rstrip() ## 오른쪽 공백 제거"
   ]
  },
  {
   "cell_type": "markdown",
   "id": "60325655",
   "metadata": {},
   "source": [
    "### 문자열 바꾸기 함수\n",
    "- replace('기존 문자열', '변경할 문자열')"
   ]
  },
  {
   "cell_type": "code",
   "execution_count": 11,
   "id": "e8c7e3ae",
   "metadata": {},
   "outputs": [],
   "source": [
    "s4 = 'Python Beginner'"
   ]
  },
  {
   "cell_type": "code",
   "execution_count": 12,
   "id": "68494ee6",
   "metadata": {},
   "outputs": [
    {
     "data": {
      "text/plain": [
       "'Python Master'"
      ]
     },
     "execution_count": 12,
     "metadata": {},
     "output_type": "execute_result"
    }
   ],
   "source": [
    "s4.replace('Beginner', 'Master')"
   ]
  },
  {
   "cell_type": "code",
   "execution_count": 13,
   "id": "e571ffb4",
   "metadata": {},
   "outputs": [
    {
     "data": {
      "text/plain": [
       "'PythonBeginner'"
      ]
     },
     "execution_count": 13,
     "metadata": {},
     "output_type": "execute_result"
    }
   ],
   "source": [
    "s4.replace(' ', '')"
   ]
  },
  {
   "cell_type": "markdown",
   "id": "f5c7d54e",
   "metadata": {},
   "source": [
    "### 문자열 나누기 함수\n",
    "- split('기준') : '기준'을 이용해 문자열 나눔"
   ]
  },
  {
   "cell_type": "code",
   "execution_count": 14,
   "id": "6985a3db",
   "metadata": {},
   "outputs": [],
   "source": [
    "s5 =  '나는 파이썬을 좋아합니다. 파이썬은 정말 재미있습니다.'"
   ]
  },
  {
   "cell_type": "code",
   "execution_count": 15,
   "id": "8a82b400",
   "metadata": {},
   "outputs": [
    {
     "data": {
      "text/plain": [
       "['나는', '파이썬을', '좋아합니다.', '파이썬은', '정말', '재미있습니다.']"
      ]
     },
     "execution_count": 15,
     "metadata": {},
     "output_type": "execute_result"
    }
   ],
   "source": [
    "s5.split(' ') ## 공백을 기준으로 문자열 나누기"
   ]
  },
  {
   "cell_type": "code",
   "execution_count": 16,
   "id": "824b7501",
   "metadata": {},
   "outputs": [],
   "source": [
    "phone = '010:1234:5678'"
   ]
  },
  {
   "cell_type": "code",
   "execution_count": 17,
   "id": "64ae1cf2",
   "metadata": {},
   "outputs": [
    {
     "data": {
      "text/plain": [
       "'010-1234-5678'"
      ]
     },
     "execution_count": 17,
     "metadata": {},
     "output_type": "execute_result"
    }
   ],
   "source": [
    "phone.replace(':', '-')"
   ]
  },
  {
   "cell_type": "code",
   "execution_count": 19,
   "id": "35195c7b",
   "metadata": {},
   "outputs": [
    {
     "data": {
      "text/plain": [
       "'010-1234-5678'"
      ]
     },
     "execution_count": 19,
     "metadata": {},
     "output_type": "execute_result"
    }
   ],
   "source": [
    "'-'.join(phone.split(':'))"
   ]
  },
  {
   "cell_type": "code",
   "execution_count": 22,
   "id": "e096deab",
   "metadata": {},
   "outputs": [],
   "source": [
    "SplitedPhone = phone.split(':')"
   ]
  },
  {
   "cell_type": "code",
   "execution_count": 24,
   "id": "c30d4d96",
   "metadata": {},
   "outputs": [
    {
     "data": {
      "text/plain": [
       "'010-1234-5678'"
      ]
     },
     "execution_count": 24,
     "metadata": {},
     "output_type": "execute_result"
    }
   ],
   "source": [
    "'-'.join(SplitedPhone)"
   ]
  },
  {
   "cell_type": "code",
   "execution_count": 37,
   "id": "d0a7b061",
   "metadata": {},
   "outputs": [],
   "source": [
    "t = '2025-09-22 13:24'"
   ]
  },
  {
   "cell_type": "code",
   "execution_count": 44,
   "id": "63a267e0",
   "metadata": {},
   "outputs": [],
   "source": [
    "replacedT = t.replace('-', ' ').replace(':', ' ')"
   ]
  },
  {
   "cell_type": "code",
   "execution_count": 45,
   "id": "871a4775",
   "metadata": {},
   "outputs": [
    {
     "data": {
      "text/plain": [
       "['2025', '09', '22', '13', '24']"
      ]
     },
     "execution_count": 45,
     "metadata": {},
     "output_type": "execute_result"
    }
   ],
   "source": [
    "replacedT.split(' ')"
   ]
  },
  {
   "cell_type": "code",
   "execution_count": 46,
   "id": "27679e7a",
   "metadata": {},
   "outputs": [
    {
     "data": {
      "text/plain": [
       "['2025', '09', '22', '13', '24']"
      ]
     },
     "execution_count": 46,
     "metadata": {},
     "output_type": "execute_result"
    }
   ],
   "source": [
    "t.replace('-', ' ').replace(':', ' ').split(' ')"
   ]
  }
 ],
 "metadata": {
  "kernelspec": {
   "display_name": "basic",
   "language": "python",
   "name": "python3"
  },
  "language_info": {
   "codemirror_mode": {
    "name": "ipython",
    "version": 3
   },
   "file_extension": ".py",
   "mimetype": "text/x-python",
   "name": "python",
   "nbconvert_exporter": "python",
   "pygments_lexer": "ipython3",
   "version": "3.11.13"
  }
 },
 "nbformat": 4,
 "nbformat_minor": 5
}
