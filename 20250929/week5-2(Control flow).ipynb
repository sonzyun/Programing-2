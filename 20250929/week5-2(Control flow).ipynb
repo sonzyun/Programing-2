{
 "cells": [
  {
   "cell_type": "markdown",
   "id": "95e27135",
   "metadata": {},
   "source": [
    "### IF문(조건문)"
   ]
  },
  {
   "cell_type": "code",
   "execution_count": null,
   "id": "6ae5209f",
   "metadata": {},
   "outputs": [],
   "source": [
    "if 조건(bool) :\n",
    "    조건이 참이면 결과"
   ]
  },
  {
   "cell_type": "code",
   "execution_count": null,
   "id": "87879a12",
   "metadata": {},
   "outputs": [],
   "source": [
    "if 조건(bool) :\n",
    "    조건이 참이면 결과\n",
    "else :\n",
    "    조건이 거짓이면 결과"
   ]
  },
  {
   "cell_type": "code",
   "execution_count": 4,
   "id": "633d96a1",
   "metadata": {},
   "outputs": [],
   "source": [
    "a = 1"
   ]
  },
  {
   "cell_type": "code",
   "execution_count": 5,
   "id": "07b61659",
   "metadata": {},
   "outputs": [
    {
     "name": "stdout",
     "output_type": "stream",
     "text": [
      "프로그램 종료\n"
     ]
    }
   ],
   "source": [
    "if a == 0 :\n",
    "    print('0')\n",
    "print('프로그램 종료')"
   ]
  },
  {
   "cell_type": "code",
   "execution_count": 6,
   "id": "01d25728",
   "metadata": {},
   "outputs": [
    {
     "name": "stdout",
     "output_type": "stream",
     "text": [
      "0이 아님\n",
      "프로그램 종료\n"
     ]
    }
   ],
   "source": [
    "if a == 0:\n",
    "    print('0')\n",
    "else :\n",
    "    print('0이 아님')\n",
    "print('프로그램 종료')"
   ]
  },
  {
   "cell_type": "code",
   "execution_count": null,
   "id": "b13c3507",
   "metadata": {},
   "outputs": [],
   "source": [
    "if 조건1 :\n",
    "    조건1이 참이면 결과1\n",
    "elif 조건2 :\n",
    "    조건2가 참이면 결과2\n",
    "else :\n",
    "    조건1,2 모두 거짓이면 결과3"
   ]
  },
  {
   "cell_type": "code",
   "execution_count": 24,
   "id": "b075920f",
   "metadata": {},
   "outputs": [],
   "source": [
    "ty = 'ㅗ'\n",
    "n1, n2 = 1, 2"
   ]
  },
  {
   "cell_type": "code",
   "execution_count": 31,
   "id": "b60ebefa",
   "metadata": {},
   "outputs": [
    {
     "name": "stdout",
     "output_type": "stream",
     "text": [
      "나가세요그냥\n",
      "결과 : 0\n"
     ]
    }
   ],
   "source": [
    "ret = 0\n",
    "if ty == '+' :\n",
    "    ret = n1 + n2\n",
    "elif ty == '-' :\n",
    "    ret = n1 - n2\n",
    "elif (ty == '*') | (ty == 'x') | (ty == 'X') :\n",
    "    ret = n1 * n2\n",
    "elif ty == '/' :\n",
    "    ret = n1 / n2\n",
    "else :\n",
    "    print('나가세요그냥')\n",
    "\n",
    "print('결과 :', ret)"
   ]
  },
  {
   "cell_type": "code",
   "execution_count": null,
   "id": "fc168ef3",
   "metadata": {},
   "outputs": [],
   "source": [
    "&(and) => 둘다 참일때 참\n",
    "|(or) => 둘중 하나만 참이어도 참"
   ]
  },
  {
   "cell_type": "code",
   "execution_count": 29,
   "id": "9c4288dd",
   "metadata": {},
   "outputs": [],
   "source": [
    "gender = '여자'\n",
    "name = '이지만'"
   ]
  },
  {
   "cell_type": "code",
   "execution_count": 33,
   "id": "5fb0cb87",
   "metadata": {},
   "outputs": [
    {
     "name": "stdout",
     "output_type": "stream",
     "text": [
      "지만아니지만\n"
     ]
    }
   ],
   "source": [
    "if (gender == '남자') & (name == '이지만') :\n",
    "    print('지만이지만')\n",
    "else :\n",
    "    print('지만아니지만')"
   ]
  },
  {
   "cell_type": "code",
   "execution_count": 34,
   "id": "0e6ad0fb",
   "metadata": {},
   "outputs": [
    {
     "name": "stdout",
     "output_type": "stream",
     "text": [
      "모두지만이지만\n"
     ]
    }
   ],
   "source": [
    "if (gender == '남자') | (name == '이지만') :\n",
    "    print('모두지만이지만')\n",
    "else :\n",
    "    print('지만아니지만')"
   ]
  },
  {
   "cell_type": "code",
   "execution_count": 45,
   "id": "c6bbd165",
   "metadata": {},
   "outputs": [
    {
     "data": {
      "text/plain": [
       "5"
      ]
     },
     "execution_count": 45,
     "metadata": {},
     "output_type": "execute_result"
    }
   ],
   "source": [
    "num = int(input('숫자입력 : '))\n",
    "num"
   ]
  },
  {
   "cell_type": "code",
   "execution_count": 47,
   "id": "dd759d2b",
   "metadata": {},
   "outputs": [
    {
     "name": "stdout",
     "output_type": "stream",
     "text": [
      "5의 배수\n"
     ]
    }
   ],
   "source": [
    "if (num > 0) & (num % 5 == 0) :\n",
    "    print('5의 배수')\n",
    "else :\n",
    "    print('나가세요그냥')"
   ]
  },
  {
   "cell_type": "code",
   "execution_count": 48,
   "id": "b6985913",
   "metadata": {},
   "outputs": [],
   "source": [
    "id = 'admin'\n",
    "pw = 'admin1234'"
   ]
  },
  {
   "cell_type": "code",
   "execution_count": 52,
   "id": "262d287d",
   "metadata": {},
   "outputs": [],
   "source": [
    "login_id = input('아이디 입력 : ')\n",
    "login_pw = input('비밀번호 입력 : ')"
   ]
  },
  {
   "cell_type": "code",
   "execution_count": 55,
   "id": "8c91a540",
   "metadata": {},
   "outputs": [
    {
     "name": "stdout",
     "output_type": "stream",
     "text": [
      "비밀번호모르세요?나가세요그냥\n"
     ]
    }
   ],
   "source": [
    "if login_id == id :\n",
    "    if login_pw == pw :\n",
    "        print('환영합니다')\n",
    "    else : \n",
    "        print('비밀번호모르세요?나가세요그냥')\n",
    "else :\n",
    "    print('아이디도모르세요?나가세요그냥')"
   ]
  },
  {
   "cell_type": "code",
   "execution_count": null,
   "id": "d4882651",
   "metadata": {},
   "outputs": [
    {
     "name": "stdout",
     "output_type": "stream",
     "text": [
      "나가세요그냥\n"
     ]
    }
   ],
   "source": [
    "if (login_id == id) & (login_pw == pw) :\n",
    "    print('환영합니다')\n",
    "else :\n",
    "    print('나가세요그냥')"
   ]
  },
  {
   "cell_type": "markdown",
   "id": "2ac623d2",
   "metadata": {},
   "source": [
    "주민등록번호 입력받아서 남자인이 여자인지 출력하기"
   ]
  },
  {
   "cell_type": "code",
   "execution_count": 80,
   "id": "57d4df36",
   "metadata": {},
   "outputs": [],
   "source": [
    "jumin = input('주민등록번호 입력: ')"
   ]
  },
  {
   "cell_type": "code",
   "execution_count": 77,
   "id": "fa6a3bc9",
   "metadata": {},
   "outputs": [
    {
     "name": "stdout",
     "output_type": "stream",
     "text": [
      "형식이 잘못된 주민등록번호입니다\n"
     ]
    }
   ],
   "source": [
    "if jumin.find('-') == 6 :\n",
    "    if len(jumin) == 14 :\n",
    "        if jumin[7] == '1' :\n",
    "            print('남자')\n",
    "        elif jumin[7] == '2' :\n",
    "            print('여자')\n",
    "        else :\n",
    "            print('잘못된 주민등록번호입니다')\n",
    "    else :\n",
    "        print('길이가 잘못된 주민등록번호입니다')\n",
    "else : \n",
    "    print('형식이 잘못된 주민등록번호입니다')"
   ]
  },
  {
   "cell_type": "code",
   "execution_count": null,
   "id": "24385ada",
   "metadata": {},
   "outputs": [
    {
     "name": "stdout",
     "output_type": "stream",
     "text": [
      "00년생 이전 외국인 남자\n"
     ]
    }
   ],
   "source": [
    "if jumin.find('-') == 6 :\n",
    "    if len(jumin) == 14 :\n",
    "        if (jumin[0] == '3') | (jumin[0] == '4') | (jumin[0] == '5') | (jumin[0] == '6') | (jumin[0] == '7') | (jumin[0] == '8') | (jumin[0] == '9') :\n",
    "            if jumin[7] == '1' :\n",
    "                print('20세기 출생 남자')\n",
    "            elif jumin[7] == '2' :\n",
    "                print('20세기 출생 여자')\n",
    "            elif jumin[7] == '5' :\n",
    "                print('20세기 출생 외국인 남자')\n",
    "            elif jumin[7] == '6' :\n",
    "                print('20세기 출생 외국인 여자')\n",
    "            else :\n",
    "                print('잘못된 주민등록번호입니다')\n",
    "        elif (jumin[0] == '0') | (jumin[0] == '1') | (jumin[0] == '2') :\n",
    "            if jumin[7] == '3' :\n",
    "                print('21세기 출생 남자')\n",
    "            elif jumin[7] == '4' :\n",
    "                print('21세기 출생 여자')\n",
    "            elif jumin[7] == '7' :\n",
    "                print('21세기 출생 외국인 남자')\n",
    "            elif jumin[7] == '8' :\n",
    "                print('21세기 출생 외국인 여자')\n",
    "            else :\n",
    "                print('잘못된 주민등록번호입니다')\n",
    "        else:\n",
    "            print('잘못된 주민등록번호입니다')\n",
    "    else :\n",
    "        print('길이가 잘못된 주민등록번호입니다')\n",
    "else : \n",
    "    print('형식이 잘못된 주민등록번호입니다')"
   ]
  }
 ],
 "metadata": {
  "kernelspec": {
   "display_name": "basic",
   "language": "python",
   "name": "python3"
  },
  "language_info": {
   "codemirror_mode": {
    "name": "ipython",
    "version": 3
   },
   "file_extension": ".py",
   "mimetype": "text/x-python",
   "name": "python",
   "nbconvert_exporter": "python",
   "pygments_lexer": "ipython3",
   "version": "3.11.13"
  }
 },
 "nbformat": 4,
 "nbformat_minor": 5
}
