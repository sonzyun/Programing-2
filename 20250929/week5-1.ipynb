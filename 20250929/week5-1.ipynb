{
 "cells": [
  {
   "cell_type": "markdown",
   "id": "27e7745f",
   "metadata": {},
   "source": [
    "### 리스트 요소 삭제하기\n",
    "- del 리스트명[숫자]"
   ]
  },
  {
   "cell_type": "code",
   "execution_count": 1,
   "id": "d9686983",
   "metadata": {},
   "outputs": [],
   "source": [
    "list1 = [1,2,3,4,5]"
   ]
  },
  {
   "cell_type": "code",
   "execution_count": 2,
   "id": "05d07608",
   "metadata": {},
   "outputs": [],
   "source": [
    "del list1[1]"
   ]
  },
  {
   "cell_type": "code",
   "execution_count": 3,
   "id": "ebf9eb6a",
   "metadata": {},
   "outputs": [
    {
     "data": {
      "text/plain": [
       "[1, 3, 4, 5]"
      ]
     },
     "execution_count": 3,
     "metadata": {},
     "output_type": "execute_result"
    }
   ],
   "source": [
    "list1"
   ]
  },
  {
   "cell_type": "markdown",
   "id": "91e3b981",
   "metadata": {},
   "source": [
    "### 리스트 값 추가하기\n",
    "- 리스트명.append(값)\n",
    "- 리스트 맨 뒤쪽에 값이 추가"
   ]
  },
  {
   "cell_type": "code",
   "execution_count": 4,
   "id": "58f1d136",
   "metadata": {},
   "outputs": [],
   "source": [
    "list1 = [1,2,3,4]"
   ]
  },
  {
   "cell_type": "code",
   "execution_count": 5,
   "id": "07f7a4b9",
   "metadata": {},
   "outputs": [],
   "source": [
    "list1.append(5)"
   ]
  },
  {
   "cell_type": "code",
   "execution_count": 6,
   "id": "b1acfc84",
   "metadata": {},
   "outputs": [
    {
     "data": {
      "text/plain": [
       "[1, 2, 3, 4, 5]"
      ]
     },
     "execution_count": 6,
     "metadata": {},
     "output_type": "execute_result"
    }
   ],
   "source": [
    "list1"
   ]
  },
  {
   "cell_type": "markdown",
   "id": "25b8362f",
   "metadata": {},
   "source": [
    "### 리스트 값 삽입하기\n",
    "- 리스트명.insert(number, 값)\n",
    "- 리스트의 number번쨰 위치에 값을 추가"
   ]
  },
  {
   "cell_type": "code",
   "execution_count": 7,
   "id": "ac3a4b67",
   "metadata": {},
   "outputs": [],
   "source": [
    "list1 = [1,2,4,5]"
   ]
  },
  {
   "cell_type": "code",
   "execution_count": 8,
   "id": "c04236d5",
   "metadata": {},
   "outputs": [],
   "source": [
    "list1.insert(2, 3)"
   ]
  },
  {
   "cell_type": "code",
   "execution_count": 9,
   "id": "768725ce",
   "metadata": {},
   "outputs": [
    {
     "data": {
      "text/plain": [
       "[1, 2, 3, 4, 5]"
      ]
     },
     "execution_count": 9,
     "metadata": {},
     "output_type": "execute_result"
    }
   ],
   "source": [
    "list1"
   ]
  },
  {
   "cell_type": "markdown",
   "id": "af01782a",
   "metadata": {},
   "source": [
    "### 리스트 값 삭제하기\n",
    "- 리스트명.remove(값)\n",
    "- 리스트에서 첫번째로 나오는 값을 삭제"
   ]
  },
  {
   "cell_type": "code",
   "execution_count": 10,
   "id": "a619a79e",
   "metadata": {},
   "outputs": [],
   "source": [
    "list1 = [1,2,3,4,5,4]"
   ]
  },
  {
   "cell_type": "code",
   "execution_count": 11,
   "id": "c36f344a",
   "metadata": {},
   "outputs": [],
   "source": [
    "list1.remove(4)"
   ]
  },
  {
   "cell_type": "code",
   "execution_count": 12,
   "id": "1ca93aa1",
   "metadata": {},
   "outputs": [
    {
     "data": {
      "text/plain": [
       "[1, 2, 3, 5, 4]"
      ]
     },
     "execution_count": 12,
     "metadata": {},
     "output_type": "execute_result"
    }
   ],
   "source": [
    "list1"
   ]
  },
  {
   "cell_type": "code",
   "execution_count": 13,
   "id": "aec0afa4",
   "metadata": {},
   "outputs": [],
   "source": [
    "list1.remove(4)"
   ]
  },
  {
   "cell_type": "code",
   "execution_count": 14,
   "id": "9098e49a",
   "metadata": {},
   "outputs": [
    {
     "data": {
      "text/plain": [
       "[1, 2, 3, 5]"
      ]
     },
     "execution_count": 14,
     "metadata": {},
     "output_type": "execute_result"
    }
   ],
   "source": [
    "list1"
   ]
  },
  {
   "cell_type": "code",
   "execution_count": 15,
   "id": "0031aef5",
   "metadata": {},
   "outputs": [
    {
     "ename": "ValueError",
     "evalue": "list.remove(x): x not in list",
     "output_type": "error",
     "traceback": [
      "\u001b[31m---------------------------------------------------------------------------\u001b[39m",
      "\u001b[31mValueError\u001b[39m                                Traceback (most recent call last)",
      "\u001b[36mCell\u001b[39m\u001b[36m \u001b[39m\u001b[32mIn[15]\u001b[39m\u001b[32m, line 1\u001b[39m\n\u001b[32m----> \u001b[39m\u001b[32m1\u001b[39m \u001b[43mlist1\u001b[49m\u001b[43m.\u001b[49m\u001b[43mremove\u001b[49m\u001b[43m(\u001b[49m\u001b[32;43m4\u001b[39;49m\u001b[43m)\u001b[49m \u001b[38;5;66;03m## 4가 없어서 오류남\u001b[39;00m\n",
      "\u001b[31mValueError\u001b[39m: list.remove(x): x not in list"
     ]
    }
   ],
   "source": [
    "list1.remove(4) ## 4가 없어서 오류남"
   ]
  },
  {
   "cell_type": "markdown",
   "id": "54bba601",
   "metadata": {},
   "source": [
    "### 리스트 값 정렬하기\n",
    "- 리스트명.sort()\n",
    "- 기본은 오름차순, reverse=True 라는 옵션을 통해서 내림차순으로 변경가능"
   ]
  },
  {
   "cell_type": "code",
   "execution_count": 16,
   "id": "0a005df5",
   "metadata": {},
   "outputs": [],
   "source": [
    "list1 = [1,5,3,4,2]"
   ]
  },
  {
   "cell_type": "code",
   "execution_count": 17,
   "id": "cba70c46",
   "metadata": {},
   "outputs": [],
   "source": [
    "list1.sort()"
   ]
  },
  {
   "cell_type": "code",
   "execution_count": 18,
   "id": "e9479f9b",
   "metadata": {},
   "outputs": [
    {
     "data": {
      "text/plain": [
       "[1, 2, 3, 4, 5]"
      ]
     },
     "execution_count": 18,
     "metadata": {},
     "output_type": "execute_result"
    }
   ],
   "source": [
    "list1"
   ]
  },
  {
   "cell_type": "code",
   "execution_count": 19,
   "id": "8947a40a",
   "metadata": {},
   "outputs": [],
   "source": [
    "list1.sort(reverse=True)"
   ]
  },
  {
   "cell_type": "code",
   "execution_count": 20,
   "id": "ea9990c6",
   "metadata": {},
   "outputs": [
    {
     "data": {
      "text/plain": [
       "[5, 4, 3, 2, 1]"
      ]
     },
     "execution_count": 20,
     "metadata": {},
     "output_type": "execute_result"
    }
   ],
   "source": [
    "list1"
   ]
  },
  {
   "cell_type": "code",
   "execution_count": 21,
   "id": "565716f5",
   "metadata": {},
   "outputs": [],
   "source": [
    "list2 = ['C', 'A', 'D', 'B']"
   ]
  },
  {
   "cell_type": "code",
   "execution_count": 22,
   "id": "5ca91c62",
   "metadata": {},
   "outputs": [],
   "source": [
    "list2.sort()"
   ]
  },
  {
   "cell_type": "code",
   "execution_count": 23,
   "id": "9b02c9db",
   "metadata": {},
   "outputs": [
    {
     "data": {
      "text/plain": [
       "['A', 'B', 'C', 'D']"
      ]
     },
     "execution_count": 23,
     "metadata": {},
     "output_type": "execute_result"
    }
   ],
   "source": [
    "list2"
   ]
  },
  {
   "cell_type": "code",
   "execution_count": null,
   "id": "61cc78f6",
   "metadata": {},
   "outputs": [],
   "source": [
    "list3 = ['ㄱ', 'ㄷ', 'ㄹ', 'ㄴ']"
   ]
  },
  {
   "cell_type": "code",
   "execution_count": 26,
   "id": "2e48c3b7",
   "metadata": {},
   "outputs": [],
   "source": [
    "list3.sort()"
   ]
  },
  {
   "cell_type": "code",
   "execution_count": 27,
   "id": "183c76f9",
   "metadata": {},
   "outputs": [
    {
     "data": {
      "text/plain": [
       "['ㄱ', 'ㄴ', 'ㄷ', 'ㄹ']"
      ]
     },
     "execution_count": 27,
     "metadata": {},
     "output_type": "execute_result"
    }
   ],
   "source": [
    "list3"
   ]
  },
  {
   "cell_type": "code",
   "execution_count": 31,
   "id": "e1bf0133",
   "metadata": {},
   "outputs": [],
   "source": [
    "list4 = ['coffee', 'apple', 'banana', 'air']"
   ]
  },
  {
   "cell_type": "code",
   "execution_count": 32,
   "id": "4338b605",
   "metadata": {},
   "outputs": [],
   "source": [
    "list4.sort()"
   ]
  },
  {
   "cell_type": "code",
   "execution_count": 33,
   "id": "58444d00",
   "metadata": {},
   "outputs": [
    {
     "data": {
      "text/plain": [
       "['air', 'apple', 'banana', 'coffee']"
      ]
     },
     "execution_count": 33,
     "metadata": {},
     "output_type": "execute_result"
    }
   ],
   "source": [
    "list4"
   ]
  },
  {
   "cell_type": "code",
   "execution_count": 34,
   "id": "1e7c82d9",
   "metadata": {},
   "outputs": [
    {
     "data": {
      "text/plain": [
       "True"
      ]
     },
     "execution_count": 34,
     "metadata": {},
     "output_type": "execute_result"
    }
   ],
   "source": [
    "'ai' < 'apple'"
   ]
  },
  {
   "cell_type": "code",
   "execution_count": 35,
   "id": "196868d8",
   "metadata": {},
   "outputs": [],
   "source": [
    "list5 = [1, 2, 'A', 'B']"
   ]
  },
  {
   "cell_type": "code",
   "execution_count": 36,
   "id": "7f987534",
   "metadata": {},
   "outputs": [
    {
     "ename": "TypeError",
     "evalue": "'<' not supported between instances of 'str' and 'int'",
     "output_type": "error",
     "traceback": [
      "\u001b[31m---------------------------------------------------------------------------\u001b[39m",
      "\u001b[31mTypeError\u001b[39m                                 Traceback (most recent call last)",
      "\u001b[36mCell\u001b[39m\u001b[36m \u001b[39m\u001b[32mIn[36]\u001b[39m\u001b[32m, line 1\u001b[39m\n\u001b[32m----> \u001b[39m\u001b[32m1\u001b[39m \u001b[43mlist5\u001b[49m\u001b[43m.\u001b[49m\u001b[43msort\u001b[49m\u001b[43m(\u001b[49m\u001b[43m)\u001b[49m\n",
      "\u001b[31mTypeError\u001b[39m: '<' not supported between instances of 'str' and 'int'"
     ]
    }
   ],
   "source": [
    "list5.sort()"
   ]
  },
  {
   "cell_type": "code",
   "execution_count": 39,
   "id": "19f3d272",
   "metadata": {},
   "outputs": [],
   "source": [
    "list6 = ['1', 'B', 'A', '2']"
   ]
  },
  {
   "cell_type": "code",
   "execution_count": 40,
   "id": "4bc055f9",
   "metadata": {},
   "outputs": [],
   "source": [
    "list6.sort()"
   ]
  },
  {
   "cell_type": "code",
   "execution_count": 41,
   "id": "63639313",
   "metadata": {},
   "outputs": [
    {
     "data": {
      "text/plain": [
       "['1', '2', 'A', 'B']"
      ]
     },
     "execution_count": 41,
     "metadata": {},
     "output_type": "execute_result"
    }
   ],
   "source": [
    "list6"
   ]
  },
  {
   "cell_type": "markdown",
   "id": "78d564b6",
   "metadata": {},
   "source": [
    "### 리스트 값의 위치를 알려주는 함수\n",
    "- 리스트명.index(값)"
   ]
  },
  {
   "cell_type": "code",
   "execution_count": 42,
   "id": "43cfe08f",
   "metadata": {},
   "outputs": [],
   "source": [
    "list1 = [1,2,3,4,5]"
   ]
  },
  {
   "cell_type": "code",
   "execution_count": 43,
   "id": "207329e2",
   "metadata": {},
   "outputs": [
    {
     "data": {
      "text/plain": [
       "2"
      ]
     },
     "execution_count": 43,
     "metadata": {},
     "output_type": "execute_result"
    }
   ],
   "source": [
    "list1.index(3)"
   ]
  },
  {
   "cell_type": "code",
   "execution_count": 45,
   "id": "62e6d718",
   "metadata": {},
   "outputs": [
    {
     "ename": "ValueError",
     "evalue": "7 is not in list",
     "output_type": "error",
     "traceback": [
      "\u001b[31m---------------------------------------------------------------------------\u001b[39m",
      "\u001b[31mValueError\u001b[39m                                Traceback (most recent call last)",
      "\u001b[36mCell\u001b[39m\u001b[36m \u001b[39m\u001b[32mIn[45]\u001b[39m\u001b[32m, line 1\u001b[39m\n\u001b[32m----> \u001b[39m\u001b[32m1\u001b[39m \u001b[43mlist1\u001b[49m\u001b[43m.\u001b[49m\u001b[43mindex\u001b[49m\u001b[43m(\u001b[49m\u001b[32;43m7\u001b[39;49m\u001b[43m)\u001b[49m \u001b[38;5;66;03m## 7이 없어서 오류남\u001b[39;00m\n",
      "\u001b[31mValueError\u001b[39m: 7 is not in list"
     ]
    }
   ],
   "source": [
    "list1.index(7) ## 7이 없어서 오류남"
   ]
  },
  {
   "cell_type": "markdown",
   "id": "2d1985c3",
   "metadata": {},
   "source": [
    "아래 문자열을 리스트로 변경하고 'Hi, Python'이라는 문자열을 출력하시오"
   ]
  },
  {
   "cell_type": "code",
   "execution_count": 67,
   "id": "20c24cb6",
   "metadata": {},
   "outputs": [],
   "source": [
    "str1 = \"Hi, Guy! You need to Python\""
   ]
  },
  {
   "cell_type": "code",
   "execution_count": 68,
   "id": "975dd89c",
   "metadata": {},
   "outputs": [],
   "source": [
    "strsplited = str1.split(' ')\n"
   ]
  },
  {
   "cell_type": "code",
   "execution_count": 69,
   "id": "1f0161b2",
   "metadata": {},
   "outputs": [
    {
     "data": {
      "text/plain": [
       "'Hi, Python'"
      ]
     },
     "execution_count": 69,
     "metadata": {},
     "output_type": "execute_result"
    }
   ],
   "source": [
    "strsplited[0] + ' ' + strsplited[-1]"
   ]
  },
  {
   "cell_type": "code",
   "execution_count": 73,
   "id": "014bd7e6",
   "metadata": {},
   "outputs": [
    {
     "name": "stdout",
     "output_type": "stream",
     "text": [
      "Hi, Python\n"
     ]
    }
   ],
   "source": [
    "print(strsplited[strsplited.index('Hi,')] + ' ' + strsplited[strsplited.index('Python')])"
   ]
  }
 ],
 "metadata": {
  "kernelspec": {
   "display_name": "basic",
   "language": "python",
   "name": "python3"
  },
  "language_info": {
   "codemirror_mode": {
    "name": "ipython",
    "version": 3
   },
   "file_extension": ".py",
   "mimetype": "text/x-python",
   "name": "python",
   "nbconvert_exporter": "python",
   "pygments_lexer": "ipython3",
   "version": "3.11.13"
  }
 },
 "nbformat": 4,
 "nbformat_minor": 5
}
